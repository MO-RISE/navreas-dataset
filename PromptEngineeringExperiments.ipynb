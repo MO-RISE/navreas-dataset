{
 "cells": [
  {
   "cell_type": "code",
   "execution_count": 7,
   "id": "b516eb99-e757-4c28-af25-cf3f8ac0fff8",
   "metadata": {
    "tags": []
   },
   "outputs": [],
   "source": [
    "import openai\n",
    "import base64"
   ]
  },
  {
   "cell_type": "code",
   "execution_count": 4,
   "id": "d625748e-cbab-4527-8ec0-fc534709017a",
   "metadata": {
    "tags": []
   },
   "outputs": [],
   "source": [
    "with open('/Users/oxana/projects/ship-traffic-llm-eval/keys/openai.key') as f:\n",
    "    OPEN_AI_KEY = f.read()"
   ]
  },
  {
   "cell_type": "code",
   "execution_count": 25,
   "id": "ec2e6e08-d955-4909-97fc-cdd191eee6ba",
   "metadata": {
    "tags": []
   },
   "outputs": [],
   "source": [
    "# Function to encode the image\n",
    "def encode_image(image_path):\n",
    "  with open(image_path, \"rb\") as image_file:\n",
    "    return base64.b64encode(image_file.read()).decode('utf-8')\n",
    "\n",
    "\n",
    "def get_answer(model, system, question):\n",
    "    from openai import OpenAI\n",
    "    client = OpenAI(\n",
    "        # This is the default and can be omitted\n",
    "        api_key=OPEN_AI_KEY,\n",
    "    )\n",
    "    \n",
    "    # Path to your image\n",
    "    image_path = \"/Users/oxana/projects/navreas-dataset/traffic_situations/generated/spatial_understanding_set/traffic_situation_02.png\"\n",
    "\n",
    "    # Getting the base64 string\n",
    "    base64_image = encode_image(image_path)\n",
    "\n",
    "    headers = {\n",
    "      \"Content-Type\": \"application/json\",\n",
    "      \"Authorization\": f\"Bearer {OPEN_AI_KEY}\"\n",
    "    }\n",
    "\n",
    "\n",
    "    response = client.chat.completions.create(\n",
    "      model=model,\n",
    "      messages=[\n",
    "            {\"role\": \"system\", \"content\": system},\n",
    "            {\"role\": \"user\",\"content\": [\n",
    "                {\n",
    "                  \"type\": \"text\",\n",
    "                  \"text\": question\n",
    "                }\n",
    "                \n",
    "            ]}\n",
    "        ],\n",
    "           temperature=0\n",
    "    )\n",
    "\n",
    "  \n",
    "    gpt_answer =  response.choices[0].message.content\n",
    "    return gpt_answer\n"
   ]
  },
  {
   "cell_type": "code",
   "execution_count": 13,
   "id": "b118bd69-391f-4f58-bc89-2045d51e2aa9",
   "metadata": {
    "tags": []
   },
   "outputs": [
    {
     "data": {
      "text/plain": [
       "'(A) ahead'"
      ]
     },
     "execution_count": 13,
     "metadata": {},
     "output_type": "execute_result"
    }
   ],
   "source": [
    "system = \"\"\"\n",
    "            1. Relative bearing is the azimuth or horizontal angle, measured clockwise from the current heading of one's own ship, towards the direction of another object or vessel. \n",
    "\n",
    "2. Importantly, relative bearing is always expressed with respect to the ship's current heading and not a fixed geographic direction like North.\n",
    "\n",
    "3. For example, If the ship's current heading is 0° (North) and the relative bearing to another vessel (target) is stated as 280°, it means this target is located 280° clockwise from our own ship's heading. This would normally suggest a position astern.\n",
    "\n",
    "4. However, as explained, in this specific context where the own ship heading is due North, a 280° clockwise measurement is equivalent to a 80° anti-clockwise measurement. This effectively places the target ahead (since anything less than 180° measured clockwise from the bow is still considered ahead) and to the left or port side of our own ship.\n",
    "\n",
    "5. When mapping the relative bearing to the ship's position, one must always consider the ship's current heading and interpret the relative bearing accordingly.\n",
    "\n",
    "\"\"\"\n",
    "question = \"\"\"Marine traffic situation: The own ship, called 'BASTO VI', is a 122.0 meters long Passenger/Ro-Ro Cargo Ship moving at a speed of 10.0 knots on a course of 0.0 degrees. Around the own ship there is 1 target ship. Target 1, 'BASTO VI', a Passenger/Ro-Ro Cargo Ship of 178.0 meters, making 18.0 knots on a course of 133.2\\u00b0. Target ship 1 lies 6.7 nautical miles off, bearing 280.0\\u00b0 relative. Question: Is the target ship 1 located ahead or astern of the own ship? \\n        Please select the appropriate option:\\n        (A) ahead\\n        (B) astern\\n        (C) neither.\"     \n",
    "\"\"\"\n",
    "                                \n",
    "#Correct answer is ahead\n",
    "get_answer(\"gpt-4\", system, question)\n",
    "\n"
   ]
  },
  {
   "cell_type": "code",
   "execution_count": 18,
   "id": "f83087a0-ba93-494b-88c1-4223f5867c86",
   "metadata": {
    "tags": []
   },
   "outputs": [
    {
     "data": {
      "text/plain": [
       "'(A) approaching'"
      ]
     },
     "execution_count": 18,
     "metadata": {},
     "output_type": "execute_result"
    }
   ],
   "source": [
    "question = \"\"\"Marine traffic situation: The own ship, called 'BASTO VI', is a 122.0 meters long Passenger/Ro-Ro Cargo Ship moving at a speed of 10.0 knots on a course of 0.0 degrees. Around the own ship there is 1 target ship. \n",
    "Target 1, 'BASTO VI', a Passenger/Ro-Ro Cargo Ship of 178.0 meters, making 18.0 knots on a course of 133.2\\u00b0. Target ship 1 lies 6.7 nautical miles off, bearing 280.0\\u00b0 relative. Question: Is the target ship 1 approaching or receding the own ship? \\n        Please select the appropriate option:\\n        (A) approacing or (B) receding.\",\n",
    "\"\"\"       \n",
    "#Correct answer is approaching\n",
    "get_answer(system, question)"
   ]
  },
  {
   "cell_type": "code",
   "execution_count": 28,
   "id": "dce4ef27-29ea-49cc-82c0-f9185d560f97",
   "metadata": {
    "tags": []
   },
   "outputs": [
    {
     "data": {
      "text/plain": [
       "\"To determine whether the target ship, 'Calethea', is crossing ahead, astern, or neither in relation to the own ship, 'BASTO VI', we need to analyze the given information regarding their positions, courses, and speeds.\\n\\nGiven data:\\n- Own ship ('BASTO VI'): Course = 0.0° (North), Speed = 10.0 knots\\n- Target ship 1 ('Calethea'): Course = 133.2°, Speed = 18.0 knots, Bearing = 280.0° relative, Distance = 6.7 nautical miles\\n\\nFirst, let's understand the bearing of the target ship relative to the own ship. A bearing of 280.0° relative means that 'Calethea' is located to the northwest of 'BASTO VI' when considering the bow of 'BASTO VI' as the reference point (0° or 360° being directly ahead).\\n\\nNext, we consider the courses of both ships:\\n- 'BASTO VI' is moving due north.\\n- 'Calethea' is moving on a course of 133.2°, which is southeast.\\n\\nGiven that 'Calethea' is currently to the northwest of 'BASTO VI' and is moving southeast, it is moving away from a direct line that would intersect the northward path of 'BASTO VI'. \\n\\nTo determine if 'Calethea' will cross ahead or astern of 'BASTO VI', we need to consider the speed and direction of both vessels. 'Calethea' is moving faster (18.0 knots) than 'BASTO VI' (10.0 knots). However, since 'Calethea' is moving in a southeast direction (away from the northward path of 'BASTO VI') and is currently located to the northwest, it is unlikely to cross directly ahead of 'BASTO VI'.\\n\\nGiven the information, 'Calethea' is neither directly crossing ahead nor astern of 'BASTO VI' based on their current courses and speeds. Instead, 'Calethea' is moving away from 'BASTO VI' on a diverging path to the southeast, while 'BASTO VI' continues north.\""
      ]
     },
     "execution_count": 28,
     "metadata": {},
     "output_type": "execute_result"
    }
   ],
   "source": [
    "# correct answer neither\n",
    "system=\"\"\n",
    "question = \"\"\"\"Marine traffic situation: The own ship, called 'BASTO VI', is a 122.0 meters long Passenger/Ro-Ro Cargo Ship moving at a speed of 10.0 knots on a course of 0.0 degrees. Around the own ship there is 1 target ship.\n",
    "Target 1, 'Calethea', a Passenger/Ro-Ro Cargo Ship of 178.0 meters, making 18.0 knots on a course of 133.2\\u00b0. Target ship 1 lies 6.7 nautical miles off, bearing 280.0\\u00b0 relative. Question: Is the target ship 1 \n",
    "crossing ahead, astern or neigher ahead or astern? \"\n",
    "\"\"\"\n",
    "get_answer(\"gpt-4-turbo-preview\", system, question)"
   ]
  },
  {
   "cell_type": "code",
   "execution_count": 29,
   "id": "dd975352-e574-47e2-a483-caa4a54432bc",
   "metadata": {
    "tags": []
   },
   "outputs": [
    {
     "data": {
      "text/plain": [
       "'The target ship 1 is crossing ahead.'"
      ]
     },
     "execution_count": 29,
     "metadata": {},
     "output_type": "execute_result"
    }
   ],
   "source": [
    "system = \"\"\n",
    "get_answer(\"gpt-4\", system, question)"
   ]
  },
  {
   "cell_type": "code",
   "execution_count": null,
   "id": "3647033c-89c3-47f3-ac7d-c13ea28bcfff",
   "metadata": {},
   "outputs": [],
   "source": []
  }
 ],
 "metadata": {
  "kernelspec": {
   "display_name": "Python 3 (ipykernel)",
   "language": "python",
   "name": "python3"
  },
  "language_info": {
   "codemirror_mode": {
    "name": "ipython",
    "version": 3
   },
   "file_extension": ".py",
   "mimetype": "text/x-python",
   "name": "python",
   "nbconvert_exporter": "python",
   "pygments_lexer": "ipython3",
   "version": "3.11.5"
  }
 },
 "nbformat": 4,
 "nbformat_minor": 5
}
